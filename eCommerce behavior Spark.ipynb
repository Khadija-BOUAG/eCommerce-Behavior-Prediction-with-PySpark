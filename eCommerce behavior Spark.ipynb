{
 "cells": [
  {
   "cell_type": "markdown",
   "metadata": {},
   "source": [
    "<h2 style=\"text-align:center;color:Red;\">Intro & Objectif 🎯🎯</h2>\n",
    "\n",
    "<h3 style=\"text-align:center;\">        In this project, we will be detecting customer behaviour on products, does he purchase, add to cart or just view the item? We are given a list of  users' events, and each event should be done on a specefic product in a specefic time and so on, it's related to products and users. </h3>\n",
    "<h3 style=\"text-align:center;\"> The dataset we are working on contains normally around 60 000 000 record, but we will be using just 5 000 000 for memory purposes.</h3>\n",
    "<h3> Brief, to understand better the dataset, it is about a user userid during session usersession added to shopping cart (property eventtype is equal cart) product productid of brand brand of category categorycode (categorycode) with price price at event_time\n",
    "<h2 style=\"text-align:center;color:Red;\">Project Pipeline 📚📚</h2>\n",
    "\n",
    ">The various steps involved in the Machine Learning Pipeline are :\n",
    "\n",
    "  **1. `Import Libraries & Data`**.\n",
    "\n",
    "  **2. `EDA`**.\n",
    "\n",
    "  **3. `Preprocessing`**.\n",
    "\n",
    "  **4. `Data Visualization of Target Variables`**.\n",
    "\n",
    "  **5. `Data Preprocessing`**.\n",
    "\n",
    "  **6. `Splitting Data`**.\n",
    "\n",
    "  **7. `Model Training & Evaluation`**."
   ]
  },
  {
   "cell_type": "markdown",
   "metadata": {},
   "source": [
    "<p style=\"background-color:pink; font-family:newtimeroman; font-size:200%; text-align:center; border-radius: 10px 100px;\"><b>Importing Libraries & Data</b></p> "
   ]
  },
  {
   "cell_type": "code",
   "execution_count": 98,
   "metadata": {},
   "outputs": [],
   "source": [
    "from pyspark.sql import SparkSession\n",
    "from pyspark.sql.functions import isnan, when, count, col\n",
    "from pyspark.sql.types import DoubleType\n",
    "from pyspark.sql.functions import sum,avg,max,min,mean,count, col\n",
    "from pyspark.sql.functions import udf,col\n",
    "from pyspark.sql.types import StringType\n",
    "from pyspark.ml.feature import StringIndexer, OneHotEncoder\n",
    "from pyspark.ml.feature import VectorAssembler\n",
    "\n",
    "from pyspark.ml.classification import LogisticRegression\n",
    "from pyspark.ml.classification import GBTClassifier\n",
    "from pyspark.ml.classification import RandomForestClassifier\n",
    "from pyspark.ml.classification import DecisionTreeClassifier\n",
    "from pyspark.ml.evaluation import MulticlassClassificationEvaluator\n",
    "\n",
    "import numpy as np\n",
    "import pandas as pd\n",
    "import matplotlib.pyplot as plt\n",
    "from datetime import datetime\n",
    "plt.style.use('fivethirtyeight')"
   ]
  },
  {
   "cell_type": "code",
   "execution_count": 99,
   "metadata": {},
   "outputs": [],
   "source": [
    "# Create SparkSession object\n",
    "spark = SparkSession.builder \\\n",
    "                    .master('local[*]') \\\n",
    "                    .appName('Spark Application') \\\n",
    "                    .getOrCreate()"
   ]
  },
  {
   "cell_type": "code",
   "execution_count": 100,
   "metadata": {},
   "outputs": [
    {
     "name": "stdout",
     "output_type": "stream",
     "text": [
      "+--------+--------------------+----------+----------+-------------------+--------------------+---------+------+---------+--------------------+\n",
      "|     _c0|          event_time|event_type|product_id|        category_id|       category_code|    brand| price|  user_id|        user_session|\n",
      "+--------+--------------------+----------+----------+-------------------+--------------------+---------+------+---------+--------------------+\n",
      "|10257365|2019-10-09 02:46:...|      view|  29900078|2059484601444729123|                null|     peda|1647.4|532353313|47059489-3a63-435...|\n",
      "|28875143|2019-10-21 16:17:...|      view|   1801805|2053013554415534427|electronics.video.tv|    artel| 231.6|536042235|a65ee34b-7701-4b2...|\n",
      "|28709595|2019-10-21 14:42:...|      cart|   1004870|2053013555631882655|electronics.smart...|  samsung|284.02|517143806|a9ba13a7-afac-41c...|\n",
      "| 3458568|2019-10-03 18:40:...|      view|   5701087|2053013553970938175|auto.accessories....|      jvc| 51.48|556492770|799d5c0a-e1f3-4f2...|\n",
      "|25352815|2019-10-19 08:58:...|      view|   5300097|2053013563173241677|                null|remington| 39.87|561838859|dd474f7f-0559-41f...|\n",
      "+--------+--------------------+----------+----------+-------------------+--------------------+---------+------+---------+--------------------+\n",
      "only showing top 5 rows\n",
      "\n"
     ]
    }
   ],
   "source": [
    "# read the data\n",
    "df = spark.read.csv('ecommerce3.csv',\n",
    "                         sep=',',\n",
    "                         header=True)\n",
    "\n",
    "# View the first five records\n",
    "df.show(5)"
   ]
  },
  {
   "cell_type": "markdown",
   "metadata": {},
   "source": [
    "<p style=\"background-color:pink; font-family:newtimeroman; font-size:200%; text-align:center; border-radius: 10px 100px;\"><b>EDA</b></p> "
   ]
  },
  {
   "cell_type": "markdown",
   "metadata": {},
   "source": [
    "## Goal :\n",
    "- Understand our data as well as possible (a small step forward is better than a big step back)\n",
    "\n",
    "## Basic Analysis :\n",
    "- **The various columns present in the dataset and their meaning** :\n",
    "    - `event_time` : Time when event happened at (in UTC).\n",
    "\n",
    "    - `event_type` : Only one kind of event: purchase.\n",
    "\n",
    "    - `product_id` : ID of a product\n",
    "\n",
    "    - `category_id`\t: Product's category ID\n",
    "\n",
    "    - `category_code` : Product's category taxonomy (code name) if it was possible to make it. Usually present for meaningful categories and skipped for different kinds of accessories.\n",
    "\n",
    "    - `brand` : Downcased string of brand name. Can be missed.\n",
    "\n",
    "     - `price` : Float price of a product. Present.\n",
    "\n",
    "    - `user_id` : Permanent user ID.\n",
    "\n",
    "    - `user_session` : Temporary user's session ID. Same for each user's session. Is changed every time user come back to online store from a long pause.\n",
    "    \n",
    "- **Target variable** : event_type\n",
    "- **Number of rows / columns** : 5,000,000 / 10\n",
    "- **NaN values** : no missing values in the whole dataset\n",
    "\n",
    "### Basic Preprocessing :\n",
    "- **Types of variables** : the price is considered as String, so we turn it into Double type\n",
    "\n",
    "### Visualizations & Correlations :\n",
    "- **Target variable values** : purchase, card, view\n",
    "- **How many customers visit the site** :  1498122 user\n",
    "- **Relationship between date and traffic of users** : More users are active in the day 14 in the chosen month when compared to the other days\n",
    "- **Fidelity of users in the dataset** : 86978 user buy a product after viewing it, and there are 10,085 repeat customers, who bought more than once.\n",
    "- **The most popular brands** : samsung, apple, xiaomi, huawei then lucente.\n",
    "- **The most visited categories** : electronic smartphones and clocks.\n",
    "- **prices of products based on customers behaviours** : users react in the same way with a products from different ranges of prices, but they almost just view the product and don't purchase it."
   ]
  },
  {
   "cell_type": "markdown",
   "metadata": {},
   "source": [
    "### Basic Analysis"
   ]
  },
  {
   "cell_type": "code",
   "execution_count": 6,
   "metadata": {},
   "outputs": [
    {
     "name": "stdout",
     "output_type": "stream",
     "text": [
      "The data contain the following features : ['_c0', 'event_time', 'event_type', 'product_id', 'category_id', 'category_code', 'brand', 'price', 'user_id', 'user_session']\n"
     ]
    }
   ],
   "source": [
    "# Get columns names\n",
    "print(f\"The data contain the following features : {df.columns}\" )"
   ]
  },
  {
   "cell_type": "code",
   "execution_count": 7,
   "metadata": {
    "scrolled": true
   },
   "outputs": [
    {
     "name": "stdout",
     "output_type": "stream",
     "text": [
      "The data contain 5000000 records.\n"
     ]
    }
   ],
   "source": [
    "# Get number of records\n",
    "print(\"The data contain %d records.\" % df.count())"
   ]
  },
  {
   "cell_type": "code",
   "execution_count": 8,
   "metadata": {},
   "outputs": [
    {
     "name": "stdout",
     "output_type": "stream",
     "text": [
      "The data contain 10 columns.\n"
     ]
    }
   ],
   "source": [
    "# Get number of columns\n",
    "print(\"The data contain %d columns.\" % len(df.columns))"
   ]
  },
  {
   "cell_type": "code",
   "execution_count": 9,
   "metadata": {},
   "outputs": [
    {
     "name": "stdout",
     "output_type": "stream",
     "text": [
      "root\n",
      " |-- _c0: string (nullable = true)\n",
      " |-- event_time: string (nullable = true)\n",
      " |-- event_type: string (nullable = true)\n",
      " |-- product_id: string (nullable = true)\n",
      " |-- category_id: string (nullable = true)\n",
      " |-- category_code: string (nullable = true)\n",
      " |-- brand: string (nullable = true)\n",
      " |-- price: string (nullable = true)\n",
      " |-- user_id: string (nullable = true)\n",
      " |-- user_session: string (nullable = true)\n",
      "\n"
     ]
    }
   ],
   "source": [
    "# Schema of the data\n",
    "df.printSchema()"
   ]
  },
  {
   "cell_type": "code",
   "execution_count": 10,
   "metadata": {},
   "outputs": [
    {
     "name": "stdout",
     "output_type": "stream",
     "text": [
      "+---+----------+----------+----------+-----------+-------------+-----+-----+-------+------------+\n",
      "|_c0|event_time|event_type|product_id|category_id|category_code|brand|price|user_id|user_session|\n",
      "+---+----------+----------+----------+-----------+-------------+-----+-----+-------+------------+\n",
      "|  0|         0|         0|         0|          0|            0|    0|    0|      0|           0|\n",
      "+---+----------+----------+----------+-----------+-------------+-----+-----+-------+------------+\n",
      "\n"
     ]
    }
   ],
   "source": [
    "# Let's check how many NaN values we have in each column\n",
    "df.select([count(when(isnan(c), c)).alias(c) for c in df.columns]).show()"
   ]
  },
  {
   "cell_type": "code",
   "execution_count": 11,
   "metadata": {},
   "outputs": [
    {
     "name": "stdout",
     "output_type": "stream",
     "text": [
      "+-------+--------------------+--------------------+----------+--------------------+--------------------+-------------------+-------+------------------+--------------------+--------------------+\n",
      "|summary|                 _c0|          event_time|event_type|          product_id|         category_id|      category_code|  brand|             price|             user_id|        user_session|\n",
      "+-------+--------------------+--------------------+----------+--------------------+--------------------+-------------------+-------+------------------+--------------------+--------------------+\n",
      "|  count|             5000000|             5000000|   5000000|             5000000|             5000000|            3408723|4279526|           5000000|             5000000|             5000000|\n",
      "|   mean|     2.12270030347E7|                null|      null|  1.05501520227192E7|2.057409086935276...|               null|   null|290.42266973796785| 5.335356617042858E8|                null|\n",
      "| stddev|1.2256005347741628E7|                null|      null|1.1884591634218045E7|1.845294418593221...|               null|   null|358.28667479159606|1.8530939870554134E7|                null|\n",
      "|    min|            10000009|2019-10-01 00:00:...|      cart|             1000978| 2053013552226107603|    accessories.bag| a-case|               0.0|           184265397|00000042-3e3f-42f...|\n",
      "|    max|             9999975|2019-10-31 23:59:...|      view|             9900461| 2175419595093967522|stationery.cartrige|  zyxel|            999.79|           566280422|fffff8d4-d31c-406...|\n",
      "+-------+--------------------+--------------------+----------+--------------------+--------------------+-------------------+-------+------------------+--------------------+--------------------+\n",
      "\n"
     ]
    }
   ],
   "source": [
    "# show statisctics about our dataset\n",
    "df.describe().show()"
   ]
  },
  {
   "cell_type": "markdown",
   "metadata": {},
   "source": [
    "### Basic Preprocessing\n",
    "\n",
    "- As we saw above, the price is a String variable by default, so we turn it to double type. \n",
    "- THe dataset contains duplicated data, so we remove these ones to be more precise in prediction."
   ]
  },
  {
   "cell_type": "code",
   "execution_count": 101,
   "metadata": {},
   "outputs": [],
   "source": [
    "# convert the price to double type\n",
    "df = df.withColumn(\"price\", df.price.cast(DoubleType()))"
   ]
  },
  {
   "cell_type": "code",
   "execution_count": 13,
   "metadata": {},
   "outputs": [
    {
     "data": {
      "text/plain": [
       "[('_c0', 'string'),\n",
       " ('event_time', 'string'),\n",
       " ('event_type', 'string'),\n",
       " ('product_id', 'string'),\n",
       " ('category_id', 'string'),\n",
       " ('category_code', 'string'),\n",
       " ('brand', 'string'),\n",
       " ('price', 'double'),\n",
       " ('user_id', 'string'),\n",
       " ('user_session', 'string')]"
      ]
     },
     "execution_count": 13,
     "metadata": {},
     "output_type": "execute_result"
    }
   ],
   "source": [
    "# let's check again column data types\n",
    "df.dtypes"
   ]
  },
  {
   "cell_type": "code",
   "execution_count": 102,
   "metadata": {},
   "outputs": [],
   "source": [
    "# remove rows with duplicated features : ['event_type', 'product_id','price', 'user_id','user_session']\n",
    "df = df.drop_duplicates(subset=['event_type', 'product_id','price', 'user_id','user_session'])"
   ]
  },
  {
   "cell_type": "code",
   "execution_count": 15,
   "metadata": {},
   "outputs": [
    {
     "name": "stdout",
     "output_type": "stream",
     "text": [
      "The dataset contains 4708152 record after removing duplicated ones.\n"
     ]
    }
   ],
   "source": [
    "# let's see how many records we have now\n",
    "print(f'The dataset contains {df.count()} record after removing duplicated ones.')"
   ]
  },
  {
   "cell_type": "code",
   "execution_count": 103,
   "metadata": {},
   "outputs": [],
   "source": [
    "# we remove the first insignificant column _c0\n",
    "df = df.drop('_c0')"
   ]
  },
  {
   "cell_type": "markdown",
   "metadata": {},
   "source": [
    "### Visualizations & Correlations"
   ]
  },
  {
   "cell_type": "markdown",
   "metadata": {},
   "source": [
    "- **Target variable values** :"
   ]
  },
  {
   "cell_type": "code",
   "execution_count": 17,
   "metadata": {},
   "outputs": [
    {
     "name": "stdout",
     "output_type": "stream",
     "text": [
      "+----------+--------------+\n",
      "|event_type|count(user_id)|\n",
      "+----------+--------------+\n",
      "|  purchase|         86978|\n",
      "|      view|       4520837|\n",
      "|      cart|        100337|\n",
      "+----------+--------------+\n",
      "\n"
     ]
    }
   ],
   "source": [
    "# different values for our taret variable\n",
    "df.select(['event_type','user_id']).groupBy('event_type').agg(count('user_id')).show()"
   ]
  },
  {
   "cell_type": "markdown",
   "metadata": {},
   "source": [
    " - **How many customers visit the site?**"
   ]
  },
  {
   "cell_type": "code",
   "execution_count": 18,
   "metadata": {},
   "outputs": [
    {
     "name": "stdout",
     "output_type": "stream",
     "text": [
      "There are 1498122 user!\n"
     ]
    }
   ],
   "source": [
    "nb_of_users = df.select('user_id').distinct().count()\n",
    "print(f'There are {nb_of_users} user!')"
   ]
  },
  {
   "cell_type": "markdown",
   "metadata": {},
   "source": [
    "- **Does the date affect the traffic of users?**"
   ]
  },
  {
   "cell_type": "code",
   "execution_count": 19,
   "metadata": {},
   "outputs": [],
   "source": [
    "traffic_df = df.select(['event_time','user_id']).toPandas()"
   ]
  },
  {
   "cell_type": "code",
   "execution_count": 20,
   "metadata": {},
   "outputs": [],
   "source": [
    "traffic_df['event_time'] = traffic_df['event_time'].apply(lambda s: str(s)[0:10])"
   ]
  },
  {
   "cell_type": "code",
   "execution_count": 21,
   "metadata": {},
   "outputs": [],
   "source": [
    "visitor_by_date = traffic_df.drop_duplicates().groupby(['event_time'])['user_id'].agg(['count']).sort_values(by=['event_time'], ascending=True)"
   ]
  },
  {
   "cell_type": "code",
   "execution_count": 22,
   "metadata": {},
   "outputs": [
    {
     "name": "stderr",
     "output_type": "stream",
     "text": [
      "/usr/lib/python3/dist-packages/matplotlib/cbook/__init__.py:2019: FutureWarning: Support for multi-dimensional indexing (e.g. `obj[:, None]`) is deprecated and will be removed in a future version.  Convert to a numpy array before indexing instead.\n",
      "  x[:, None]\n",
      "/usr/lib/python3/dist-packages/matplotlib/axes/_base.py:249: FutureWarning: Support for multi-dimensional indexing (e.g. `obj[:, None]`) is deprecated and will be removed in a future version.  Convert to a numpy array before indexing instead.\n",
      "  x = x[:, np.newaxis]\n",
      "/usr/lib/python3/dist-packages/matplotlib/axes/_base.py:251: FutureWarning: Support for multi-dimensional indexing (e.g. `obj[:, None]`) is deprecated and will be removed in a future version.  Convert to a numpy array before indexing instead.\n",
      "  y = y[:, np.newaxis]\n"
     ]
    },
    {
     "data": {
      "image/png": "[encoded data removed]",
      "text/plain": [
       "<matplotlib.figure.Figure at 0x7f3c05601828>"
      ]
     },
     "metadata": {
      "needs_background": "light"
     },
     "output_type": "display_data"
    }
   ],
   "source": [
    "# show the users traffic during time \n",
    "x = pd.Series(visitor_by_date.index.values).apply(lambda s: datetime.strptime(s, '%Y-%m-%d').date())\n",
    "y = visitor_by_date['count']\n",
    "plt.rcParams['figure.figsize'] = (20,8)\n",
    "\n",
    "plt.plot(x,y)\n",
    "plt.show()"
   ]
  },
  {
   "cell_type": "markdown",
   "metadata": {},
   "source": [
    "- **How many customers buy a product after viewing or adding it to card?**"
   ]
  },
  {
   "cell_type": "code",
   "execution_count": 23,
   "metadata": {},
   "outputs": [
    {
     "name": "stdout",
     "output_type": "stream",
     "text": [
      "+---------+-------+\n",
      "|Purchased|  count|\n",
      "+---------+-------+\n",
      "|     true|  86978|\n",
      "|    false|4621174|\n",
      "+---------+-------+\n",
      "\n"
     ]
    }
   ],
   "source": [
    "# get the number of items purchased\n",
    "df = df.withColumn('Purchased', df[\"event_type\"]==\"purchase\")\n",
    "\n",
    "df.groupBy(\"Purchased\").count().show()"
   ]
  },
  {
   "cell_type": "markdown",
   "metadata": {},
   "source": [
    "- **Does our custumers buy more than one time?**"
   ]
  },
  {
   "cell_type": "code",
   "execution_count": 104,
   "metadata": {},
   "outputs": [],
   "source": [
    "# get dataset of users who really buy products\n",
    "purchase_df = df.filter(df['event_type']=='purchase')\n",
    "# get the number of purchases and sales of each user\n",
    "Customer_table=purchase_df.groupBy('user_id').agg(count(\"user_id\").alias(\"number_of_purchases\"), sum(\"price\").alias(\"total_sales\"))"
   ]
  },
  {
   "cell_type": "code",
   "execution_count": 105,
   "metadata": {},
   "outputs": [
    {
     "name": "stdout",
     "output_type": "stream",
     "text": [
      "+---------+-------------------+------------------+\n",
      "|  user_id|number_of_purchases|       total_sales|\n",
      "+---------+-------------------+------------------+\n",
      "|546263393|                  1|            725.12|\n",
      "|557678114|                  5|1904.1599999999999|\n",
      "|559032671|                  1|            118.66|\n",
      "|560097941|                  2|1876.4499999999998|\n",
      "|512474553|                  1|           1000.51|\n",
      "+---------+-------------------+------------------+\n",
      "only showing top 5 rows\n",
      "\n"
     ]
    }
   ],
   "source": [
    "Customer_table.show(5)"
   ]
  },
  {
   "cell_type": "code",
   "execution_count": 10,
   "metadata": {},
   "outputs": [
    {
     "name": "stdout",
     "output_type": "stream",
     "text": [
      "There are 10,085 repeat customers, who bought more than once.\n"
     ]
    }
   ],
   "source": [
    "# conclusion\n",
    "Number_of_customers_who_bought_more_than_once=Customer_table.filter('number_of_purchases > 1').count()\n",
    "print('There are {:,.0f} repeat customers, who bought more than once.'.format(Number_of_customers_who_bought_more_than_once))"
   ]
  },
  {
   "cell_type": "markdown",
   "metadata": {},
   "source": [
    "- **What are the most popular brands?**"
   ]
  },
  {
   "cell_type": "code",
   "execution_count": 106,
   "metadata": {},
   "outputs": [
    {
     "name": "stdout",
     "output_type": "stream",
     "text": [
      "+-------+-----------+\n",
      "|  brand|Nb of sales|\n",
      "+-------+-----------+\n",
      "|samsung|      20275|\n",
      "|  apple|      16478|\n",
      "| xiaomi|       6560|\n",
      "| huawei|       2736|\n",
      "|lucente|       1363|\n",
      "+-------+-----------+\n",
      "only showing top 5 rows\n",
      "\n"
     ]
    }
   ],
   "source": [
    "# get the number of sales for each brand\n",
    "purchases_with_brands = purchase_df.na.drop(subset=['brand']) \n",
    "top_sellers = purchases_with_brands.groupBy('brand').agg(count('brand').alias('Nb of sales')).sort(col('Nb of sales').desc())\n",
    "top_sellers.show(5)"
   ]
  },
  {
   "cell_type": "code",
   "execution_count": 12,
   "metadata": {},
   "outputs": [
    {
     "name": "stdout",
     "output_type": "stream",
     "text": [
      "The number of brands in our dataset is 1243\n"
     ]
    }
   ],
   "source": [
    "print(f'The number of brands in our dataset is {top_sellers.count()}')"
   ]
  },
  {
   "cell_type": "markdown",
   "metadata": {},
   "source": [
    "- **What are the most visited categories?**"
   ]
  },
  {
   "cell_type": "code",
   "execution_count": 15,
   "metadata": {},
   "outputs": [
    {
     "name": "stdout",
     "output_type": "stream",
     "text": [
      "The number of categories in our dataset is 127\n"
     ]
    }
   ],
   "source": [
    "cat_df = df.select(['user_id', 'category_code']).groupBy('category_code').agg(count('user_id').alias('Nb of visitors')).sort(col('Nb of visitors').desc())\n",
    "print(f'The number of categories in our dataset is {cat_df.count()}')"
   ]
  },
  {
   "cell_type": "code",
   "execution_count": 18,
   "metadata": {},
   "outputs": [],
   "source": [
    "cat_df_pd = cat_df.toPandas()[:20]"
   ]
  },
  {
   "cell_type": "code",
   "execution_count": 19,
   "metadata": {},
   "outputs": [
    {
     "data": {
      "image/png": "[encoded data removed]",
      "text/plain": [
       "<matplotlib.figure.Figure at 0x7f316b7d1940>"
      ]
     },
     "metadata": {},
     "output_type": "display_data"
    }
   ],
   "source": [
    "labels = cat_df_pd['category_code']\n",
    "plt.rcParams['figure.figsize'] = (8, 8)\n",
    "plt.pie(cat_df_pd['Nb of visitors'], shadow = True, labels = labels, autopct = '%.2f%%')\n",
    "plt.title('Most visited categories', fontsize = 20)\n",
    "plt.axis('off')\n",
    "plt.show()"
   ]
  },
  {
   "cell_type": "markdown",
   "metadata": {},
   "source": [
    "- **What are ranges of prices of products based on customers behaviours?**"
   ]
  },
  {
   "cell_type": "code",
   "execution_count": 18,
   "metadata": {},
   "outputs": [],
   "source": [
    "sales_event_df = df.select(['event_type', 'price']) "
   ]
  },
  {
   "cell_type": "code",
   "execution_count": 36,
   "metadata": {},
   "outputs": [],
   "source": [
    "sales_event_df = sales_event_df.toPandas()\n",
    "purchase = sales_event_df.filter(sales_event_df['event_type']=='purchase')\n",
    "view = sales_event_df.filter(sales_event_df['event_type']=='view')\n",
    "card = sales_event_df.filter(sales_event_df['event_type']=='cart')\n",
    "data = [purchase.select(['price']).toPandas().values, view.select(['price']).toPandas().values, card.select(['price']).toPandas().values]"
   ]
  },
  {
   "cell_type": "code",
   "execution_count": 37,
   "metadata": {},
   "outputs": [
    {
     "name": "stderr",
     "output_type": "stream",
     "text": [
      "/home/dba/.local/lib/python3.6/site-packages/numpy/core/_asarray.py:83: VisibleDeprecationWarning: Creating an ndarray from ragged nested sequences (which is a list-or-tuple of lists-or-tuples-or ndarrays with different lengths or shapes) is deprecated. If you meant to do this, you must specify 'dtype=object' when creating the ndarray\n",
      "  return array(a, dtype, copy=False, order=order)\n"
     ]
    },
    {
     "data": {
      "image/png": "[encoded data removed]",
      "text/plain": [
       "<matplotlib.figure.Figure at 0x7ff7949004a8>"
      ]
     },
     "metadata": {
      "needs_background": "light"
     },
     "output_type": "display_data"
    }
   ],
   "source": [
    "fig = plt.figure(figsize =(10, 7))\n",
    "ax = fig.add_subplot(111)\n",
    "# Creating axes instance\n",
    "bp = ax.boxplot(data, patch_artist = True, notch ='True', vert = 0)\n",
    "# x-axis labels\n",
    "ax.set_yticklabels(['Purchase', 'View','Card'])\n",
    "# Adding title\n",
    "plt.title(\"Prices based on event type\")\n",
    "plt.show()"
   ]
  },
  {
   "cell_type": "code",
   "execution_count": 21,
   "metadata": {},
   "outputs": [
    {
     "name": "stdout",
     "output_type": "stream",
     "text": [
      "+----------+--------------------+\n",
      "|event_type|               sales|\n",
      "+----------+--------------------+\n",
      "|      view| 1.313920427179997E9|\n",
      "|      cart|3.3421070760000005E7|\n",
      "|  purchase| 2.671638162000001E7|\n",
      "+----------+--------------------+\n",
      "\n"
     ]
    }
   ],
   "source": [
    "sales_event_df = df.select(['event_type', 'price'])\n",
    "sales_event_df = sales_event_df.groupBy('event_type').agg(sum('price').alias('sales')).sort(col('sales').desc())\n",
    "sales_event_df .show()"
   ]
  },
  {
   "cell_type": "markdown",
   "metadata": {},
   "source": [
    "<p style=\"background-color:pink; font-family:newtimeroman; font-size:200%; text-align:center; border-radius: 10px 100px;\"><b>Preprocessing</b></p> "
   ]
  },
  {
   "cell_type": "markdown",
   "metadata": {},
   "source": [
    "### Feature Engineering :\n",
    "- **`Principal Category`** : as the category_code is a combination of categories and subcategories, this new feature is about the first level one.\n",
    "- **`Event Weekday`**: weekday of the event\n",
    "\n",
    "### Encoding :\n",
    "- Encode the three following columns :\n",
    "    - `Brand`\n",
    "    - `Principal Category`\n",
    "    - `event_type`\n",
    "    \n",
    "### Visualizations after Preprocessing\n",
    "\n",
    "### Train-Test Split : \n",
    "- 80% for train set and 20% for test set"
   ]
  },
  {
   "cell_type": "markdown",
   "metadata": {},
   "source": [
    "### Feature Engineering :"
   ]
  },
  {
   "cell_type": "code",
   "execution_count": 38,
   "metadata": {},
   "outputs": [],
   "source": [
    "# helper function to extract the principal category\n",
    "def extract_principal_cat(x,i) :\n",
    "    if x :\n",
    "        return x.split('.')[i]\n",
    "    else :\n",
    "        return 'Not Provided'"
   ]
  },
  {
   "cell_type": "code",
   "execution_count": 39,
   "metadata": {},
   "outputs": [
    {
     "name": "stdout",
     "output_type": "stream",
     "text": [
      "+--------------------+----------+----------+-------------------+--------------------+-------+-------+---------+--------------------+------------------+\n",
      "|          event_time|event_type|product_id|        category_id|       category_code|  brand|  price|  user_id|        user_session|Principal Category|\n",
      "+--------------------+----------+----------+-------------------+--------------------+-------+-------+---------+--------------------+------------------+\n",
      "|2019-10-19 11:13:...|      view|   1004767|2053013555631882655|electronics.smart...|samsung| 249.86|561610048|0000de39-dc74-414...|       electronics|\n",
      "|2019-10-23 08:56:...|      view|   1005074|2053013555631882655|electronics.smart...|samsung|1149.08|536813317|00029324-8160-401...|       electronics|\n",
      "|2019-10-05 11:54:...|      view|   1004446|2053013555631882655|electronics.smart...|samsung|  89.32|518029613|00041137-4a55-41a...|       electronics|\n",
      "|2019-10-18 17:14:...|      view|   1801899|2053013554415534427|electronics.video.tv|samsung| 769.39|525539494|00092d00-8ea4-42b...|       electronics|\n",
      "|2019-10-21 02:48:...|      view|  28718075|2053013565228450757|       apparel.shoes|respect|  47.36|562440949|00096c1b-6b6b-482...|           apparel|\n",
      "+--------------------+----------+----------+-------------------+--------------------+-------+-------+---------+--------------------+------------------+\n",
      "only showing top 5 rows\n",
      "\n"
     ]
    }
   ],
   "source": [
    "# create a new column with the previous helper function\n",
    "udf_star_desc = udf(lambda x:extract_principal_cat(x,0),StringType())\n",
    "df = df.withColumn(\"Principal Category\",udf_star_desc(col(\"category_code\")))\n",
    "df.show(5)"
   ]
  },
  {
   "cell_type": "code",
   "execution_count": 40,
   "metadata": {},
   "outputs": [
    {
     "name": "stdout",
     "output_type": "stream",
     "text": [
      "+--------------------+----------+----------+-------------------+--------------------+-------+-------+---------+--------------------+------------------+-------------+\n",
      "|          event_time|event_type|product_id|        category_id|       category_code|  brand|  price|  user_id|        user_session|Principal Category|Event Weekday|\n",
      "+--------------------+----------+----------+-------------------+--------------------+-------+-------+---------+--------------------+------------------+-------------+\n",
      "|2019-10-19 11:13:...|      view|   1004767|2053013555631882655|electronics.smart...|samsung| 249.86|561610048|0000de39-dc74-414...|       electronics|            5|\n",
      "|2019-10-23 08:56:...|      view|   1005074|2053013555631882655|electronics.smart...|samsung|1149.08|536813317|00029324-8160-401...|       electronics|            2|\n",
      "|2019-10-05 11:54:...|      view|   1004446|2053013555631882655|electronics.smart...|samsung|  89.32|518029613|00041137-4a55-41a...|       electronics|            5|\n",
      "|2019-10-18 17:14:...|      view|   1801899|2053013554415534427|electronics.video.tv|samsung| 769.39|525539494|00092d00-8ea4-42b...|       electronics|            4|\n",
      "|2019-10-21 02:48:...|      view|  28718075|2053013565228450757|       apparel.shoes|respect|  47.36|562440949|00096c1b-6b6b-482...|           apparel|            0|\n",
      "+--------------------+----------+----------+-------------------+--------------------+-------+-------+---------+--------------------+------------------+-------------+\n",
      "only showing top 5 rows\n",
      "\n"
     ]
    }
   ],
   "source": [
    "# create the event_weekday column based on the event_time\n",
    "udf_star_desc = udf(lambda s: str(datetime.strptime(str(s)[0:10], \"%Y-%m-%d\").weekday()))\n",
    "df = df.withColumn(\"Event Weekday\",udf_star_desc(col(\"event_time\")))\n",
    "df.show(5)"
   ]
  },
  {
   "cell_type": "code",
   "execution_count": 41,
   "metadata": {},
   "outputs": [],
   "source": [
    "# change the type of weekday to int\n",
    "df = df.withColumn(\"Event Weekday\", df['Event Weekday'].cast('int'))"
   ]
  },
  {
   "cell_type": "code",
   "execution_count": 42,
   "metadata": {},
   "outputs": [
    {
     "data": {
      "text/plain": [
       "['event_time',\n",
       " 'event_type',\n",
       " 'product_id',\n",
       " 'category_id',\n",
       " 'category_code',\n",
       " 'brand',\n",
       " 'price',\n",
       " 'user_id',\n",
       " 'user_session',\n",
       " 'Principal Category',\n",
       " 'Event Weekday']"
      ]
     },
     "execution_count": 42,
     "metadata": {},
     "output_type": "execute_result"
    }
   ],
   "source": [
    "# get the set of all columns after feature engineering part\n",
    "df.columns"
   ]
  },
  {
   "cell_type": "markdown",
   "metadata": {},
   "source": [
    "### Encoding"
   ]
  },
  {
   "cell_type": "code",
   "execution_count": 43,
   "metadata": {},
   "outputs": [
    {
     "name": "stdout",
     "output_type": "stream",
     "text": [
      "+--------------------+----------+----------+-------------------+--------------------+-------+-------+---------+--------------------+------------------+-------------+-----------+\n",
      "|          event_time|event_type|product_id|        category_id|       category_code|  brand|  price|  user_id|        user_session|Principal Category|Event Weekday|brand_index|\n",
      "+--------------------+----------+----------+-------------------+--------------------+-------+-------+---------+--------------------+------------------+-------------+-----------+\n",
      "|2019-10-19 11:13:...|      view|   1004767|2053013555631882655|electronics.smart...|samsung| 249.86|561610048|0000de39-dc74-414...|       electronics|            5|        0.0|\n",
      "|2019-10-23 08:56:...|      view|   1005074|2053013555631882655|electronics.smart...|samsung|1149.08|536813317|00029324-8160-401...|       electronics|            2|        0.0|\n",
      "|2019-10-05 11:54:...|      view|   1004446|2053013555631882655|electronics.smart...|samsung|  89.32|518029613|00041137-4a55-41a...|       electronics|            5|        0.0|\n",
      "|2019-10-18 17:14:...|      view|   1801899|2053013554415534427|electronics.video.tv|samsung| 769.39|525539494|00092d00-8ea4-42b...|       electronics|            4|        0.0|\n",
      "|2019-10-21 02:48:...|      view|  28718075|2053013565228450757|       apparel.shoes|respect|  47.36|562440949|00096c1b-6b6b-482...|           apparel|            0|       16.0|\n",
      "+--------------------+----------+----------+-------------------+--------------------+-------+-------+---------+--------------------+------------------+-------------+-----------+\n",
      "only showing top 5 rows\n",
      "\n"
     ]
    }
   ],
   "source": [
    "# encode the brand column\n",
    "brand_indexer = StringIndexer(inputCol='brand', outputCol='brand_index')\n",
    "df = brand_indexer.setHandleInvalid(\"skip\").fit(df).transform(df)\n",
    "df.show(5)"
   ]
  },
  {
   "cell_type": "code",
   "execution_count": 44,
   "metadata": {},
   "outputs": [],
   "source": [
    "# encode the prncipal category column\n",
    "cat_indexer = StringIndexer(inputCol='Principal Category', outputCol='Principal Category Index')\n",
    "df = cat_indexer.setHandleInvalid(\"skip\").fit(df).transform(df)"
   ]
  },
  {
   "cell_type": "code",
   "execution_count": 45,
   "metadata": {},
   "outputs": [
    {
     "name": "stdout",
     "output_type": "stream",
     "text": [
      "+--------------------+----------+----------+-------------------+--------------------+-------+-------+---------+--------------------+------------------+-------------+-----------+------------------------+--------------------------+\n",
      "|          event_time|event_type|product_id|        category_id|       category_code|  brand|  price|  user_id|        user_session|Principal Category|Event Weekday|brand_index|Principal Category Index|Principal Category encoded|\n",
      "+--------------------+----------+----------+-------------------+--------------------+-------+-------+---------+--------------------+------------------+-------------+-----------+------------------------+--------------------------+\n",
      "|2019-10-19 11:13:...|      view|   1004767|2053013555631882655|electronics.smart...|samsung| 249.86|561610048|0000de39-dc74-414...|       electronics|            5|        0.0|                     0.0|            (13,[0],[1.0])|\n",
      "|2019-10-23 08:56:...|      view|   1005074|2053013555631882655|electronics.smart...|samsung|1149.08|536813317|00029324-8160-401...|       electronics|            2|        0.0|                     0.0|            (13,[0],[1.0])|\n",
      "|2019-10-05 11:54:...|      view|   1004446|2053013555631882655|electronics.smart...|samsung|  89.32|518029613|00041137-4a55-41a...|       electronics|            5|        0.0|                     0.0|            (13,[0],[1.0])|\n",
      "|2019-10-18 17:14:...|      view|   1801899|2053013554415534427|electronics.video.tv|samsung| 769.39|525539494|00092d00-8ea4-42b...|       electronics|            4|        0.0|                     0.0|            (13,[0],[1.0])|\n",
      "|2019-10-21 02:48:...|      view|  28718075|2053013565228450757|       apparel.shoes|respect|  47.36|562440949|00096c1b-6b6b-482...|           apparel|            0|       16.0|                     4.0|            (13,[4],[1.0])|\n",
      "+--------------------+----------+----------+-------------------+--------------------+-------+-------+---------+--------------------+------------------+-------------+-----------+------------------------+--------------------------+\n",
      "only showing top 5 rows\n",
      "\n"
     ]
    }
   ],
   "source": [
    "# use the one hot encoding as the number of categories is not too big (for overfitting purpose)\n",
    "catEncoder = OneHotEncoder(inputCol=\"Principal Category Index\", outputCol=\"Principal Category encoded\")\n",
    "df = catEncoder.transform(df)\n",
    "df.show(5)"
   ]
  },
  {
   "cell_type": "code",
   "execution_count": 46,
   "metadata": {},
   "outputs": [
    {
     "name": "stdout",
     "output_type": "stream",
     "text": [
      "+--------------------+----------+----------+-------------------+--------------------+-------+-------+---------+--------------------+------------------+-------------+-----------+------------------------+--------------------------+-----+\n",
      "|          event_time|event_type|product_id|        category_id|       category_code|  brand|  price|  user_id|        user_session|Principal Category|Event Weekday|brand_index|Principal Category Index|Principal Category encoded|label|\n",
      "+--------------------+----------+----------+-------------------+--------------------+-------+-------+---------+--------------------+------------------+-------------+-----------+------------------------+--------------------------+-----+\n",
      "|2019-10-19 11:13:...|      view|   1004767|2053013555631882655|electronics.smart...|samsung| 249.86|561610048|0000de39-dc74-414...|       electronics|            5|        0.0|                     0.0|            (13,[0],[1.0])|  0.0|\n",
      "|2019-10-23 08:56:...|      view|   1005074|2053013555631882655|electronics.smart...|samsung|1149.08|536813317|00029324-8160-401...|       electronics|            2|        0.0|                     0.0|            (13,[0],[1.0])|  0.0|\n",
      "|2019-10-05 11:54:...|      view|   1004446|2053013555631882655|electronics.smart...|samsung|  89.32|518029613|00041137-4a55-41a...|       electronics|            5|        0.0|                     0.0|            (13,[0],[1.0])|  0.0|\n",
      "|2019-10-18 17:14:...|      view|   1801899|2053013554415534427|electronics.video.tv|samsung| 769.39|525539494|00092d00-8ea4-42b...|       electronics|            4|        0.0|                     0.0|            (13,[0],[1.0])|  0.0|\n",
      "|2019-10-21 02:48:...|      view|  28718075|2053013565228450757|       apparel.shoes|respect|  47.36|562440949|00096c1b-6b6b-482...|           apparel|            0|       16.0|                     4.0|            (13,[4],[1.0])|  0.0|\n",
      "+--------------------+----------+----------+-------------------+--------------------+-------+-------+---------+--------------------+------------------+-------------+-----------+------------------------+--------------------------+-----+\n",
      "only showing top 5 rows\n",
      "\n"
     ]
    }
   ],
   "source": [
    "# encode the target column\n",
    "event_indexer = StringIndexer(inputCol='event_type', outputCol='label')\n",
    "df = event_indexer.setHandleInvalid(\"skip\").fit(df).transform(df)\n",
    "df.show(5)"
   ]
  },
  {
   "cell_type": "markdown",
   "metadata": {},
   "source": [
    "### Visualizations after Preprocessing :"
   ]
  },
  {
   "cell_type": "markdown",
   "metadata": {},
   "source": [
    "- **Number of buyers for each principal categoty** :"
   ]
  },
  {
   "cell_type": "code",
   "execution_count": 47,
   "metadata": {},
   "outputs": [
    {
     "name": "stdout",
     "output_type": "stream",
     "text": [
      "+------------------+------------+\n",
      "|Principal Category|Nb of buyers|\n",
      "+------------------+------------+\n",
      "|          medicine|        1539|\n",
      "|         computers|      247989|\n",
      "|              auto|       84995|\n",
      "|        stationery|         647|\n",
      "|             sport|       17062|\n",
      "+------------------+------------+\n",
      "only showing top 5 rows\n",
      "\n"
     ]
    }
   ],
   "source": [
    "principal_categories_df = df.select(['user_id', 'category_code','Principal Category'])\n",
    "# get the number of buyers for each principal category\n",
    "principal_categories_df = principal_categories_df.groupBy('Principal Category').agg(count('user_id').alias('Nb of buyers'))\n",
    "principal_categories_df.show(5)"
   ]
  },
  {
   "cell_type": "code",
   "execution_count": 48,
   "metadata": {},
   "outputs": [
    {
     "name": "stdout",
     "output_type": "stream",
     "text": [
      "Their are 14 principal category in our dataset.\n"
     ]
    }
   ],
   "source": [
    "print(f'Their are {principal_categories_df.count()} principal category in our dataset.')"
   ]
  },
  {
   "cell_type": "code",
   "execution_count": 58,
   "metadata": {},
   "outputs": [
    {
     "data": {
      "image/png": "[encoded data removed]",
      "text/plain": [
       "<matplotlib.figure.Figure at 0x7ff7d5936320>"
      ]
     },
     "metadata": {
      "needs_background": "light"
     },
     "output_type": "display_data"
    }
   ],
   "source": [
    "# let's visualize the number of buyers for each principal category\n",
    "principal_categories_df.toPandas().plot(kind='bar', x='Principal Category')\n",
    "plt.title('N. of buyers in each principal category')\n",
    "plt.show()"
   ]
  },
  {
   "cell_type": "markdown",
   "metadata": {},
   "source": [
    "- **In which day customers look for products more during the week?**"
   ]
  },
  {
   "cell_type": "code",
   "execution_count": 59,
   "metadata": {},
   "outputs": [
    {
     "name": "stdout",
     "output_type": "stream",
     "text": [
      "+-------------+---------------+\n",
      "|Event Weekday|Nb of customers|\n",
      "+-------------+---------------+\n",
      "|            1|         644477|\n",
      "|            6|         555826|\n",
      "|            3|         606198|\n",
      "|            5|         532028|\n",
      "|            4|         550531|\n",
      "+-------------+---------------+\n",
      "only showing top 5 rows\n",
      "\n"
     ]
    }
   ],
   "source": [
    "week_df = df.select(['user_id', 'Event Weekday'])\n",
    "# get the number of buyers for each principal category\n",
    "week_df = week_df.groupBy('Event Weekday').agg(count('user_id').alias('Nb of customers'))\n",
    "week_df.show(5)"
   ]
  },
  {
   "cell_type": "code",
   "execution_count": 65,
   "metadata": {},
   "outputs": [
    {
     "data": {
      "image/png": "[encoded data removed]",
      "text/plain": [
       "<matplotlib.figure.Figure at 0x7ff7d5bd49b0>"
      ]
     },
     "metadata": {
      "needs_background": "light"
     },
     "output_type": "display_data"
    }
   ],
   "source": [
    "# let's visualize the number of buyers for each weekday\n",
    "week_df.toPandas().plot(kind='bar', x='Event Weekday')\n",
    "plt.title('N. of customers in every weekday')\n",
    "plt.show()"
   ]
  },
  {
   "cell_type": "markdown",
   "metadata": {},
   "source": [
    "### Train-Test Split :"
   ]
  },
  {
   "cell_type": "code",
   "execution_count": 66,
   "metadata": {},
   "outputs": [],
   "source": [
    "# keep just important features in our dataset\n",
    "df = df.select(['brand_index', 'price', 'Event Weekday', 'Principal Category encoded','label'])"
   ]
  },
  {
   "cell_type": "code",
   "execution_count": 67,
   "metadata": {},
   "outputs": [],
   "source": [
    "# split our dataset with 80% of data for trainset and 20% for testset\n",
    "(train, test )= df.randomSplit([0.8, 0.2], seed=42)"
   ]
  },
  {
   "cell_type": "code",
   "execution_count": 68,
   "metadata": {},
   "outputs": [],
   "source": [
    "# create a new column with all independant variables in a single vector\n",
    "assembler = VectorAssembler(inputCols=['brand_index', 'price', 'Event Weekday', 'Principal Category encoded'], outputCol='features')\n",
    "train = assembler.transform(train)\n",
    "test = assembler.transform(test)"
   ]
  },
  {
   "cell_type": "code",
   "execution_count": 69,
   "metadata": {},
   "outputs": [
    {
     "data": {
      "text/plain": [
       "[3219332, 803776]"
      ]
     },
     "execution_count": 69,
     "metadata": {},
     "output_type": "execute_result"
    }
   ],
   "source": [
    "# Number of records in train and test sets\n",
    "[train.count(), test.count()]"
   ]
  },
  {
   "cell_type": "markdown",
   "metadata": {},
   "source": [
    "<p style=\"background-color:pink; font-family:newtimeroman; font-size:200%; text-align:center; border-radius: 10px 100px;\"><b>Training & Evaluation</b></p> "
   ]
  },
  {
   "cell_type": "markdown",
   "metadata": {},
   "source": [
    "### Logistic Regression :\n",
    "- **Metrics** :\n",
    "    - `F1 score` : 0.93\n",
    "    - `Accuracy` : 0.95\n",
    " \n",
    "### Decision Tree Classifier :\n",
    "- **Metrics** :\n",
    "    - `F1 score` : 0.93\n",
    "    - `Accuracy` : 0.95\n",
    "    \n",
    "### Random Forest Classifier :\n",
    "- **Metrics** :\n",
    "    - `F1 score` : 0.93\n",
    "    - `Accuracy` : 0.95\n",
    "\n",
    "### Naive Bayes :\n",
    "- **Metrics** :\n",
    "    - `F1 score` : 0.58\n",
    "    - `Accuracy` : 0.44\n",
    "    \n",
    "**`Conclusion`** :\n",
    "\n",
    "It appears that the first three models are all good with approximately the same metrics (difference in numbers after comma), with an f1-score of 93% and an accuracy of 95%."
   ]
  },
  {
   "cell_type": "markdown",
   "metadata": {},
   "source": [
    "### Logistic Regression :"
   ]
  },
  {
   "cell_type": "code",
   "execution_count": 70,
   "metadata": {},
   "outputs": [],
   "source": [
    "#Create and fit a Logistic Regression classifier.\n",
    "lr = LogisticRegression(labelCol = \"label\", featuresCol = \"features\")\n",
    "lr = lr.fit(train)"
   ]
  },
  {
   "cell_type": "code",
   "execution_count": 72,
   "metadata": {},
   "outputs": [],
   "source": [
    "preds_LR = lr.transform(test)"
   ]
  },
  {
   "cell_type": "code",
   "execution_count": 77,
   "metadata": {},
   "outputs": [],
   "source": [
    "# evaluate our modele\n",
    "evaluator = MulticlassClassificationEvaluator(predictionCol=\"prediction\")\n",
    "\n",
    "acc = evaluator.evaluate(preds_LR, {evaluator.metricName: \"accuracy\"})\n",
    "f1 = evaluator.evaluate(preds_LR, {evaluator.metricName: \"f1\"}) "
   ]
  },
  {
   "cell_type": "code",
   "execution_count": 78,
   "metadata": {},
   "outputs": [
    {
     "name": "stdout",
     "output_type": "stream",
     "text": [
      "F1 for test set is           : 0.934000789601444\n",
      "The accuracy for test set is : 0.9556655087984712\n"
     ]
    }
   ],
   "source": [
    "print(f'F1 for test set is           : {f1}')\n",
    "print(f'The accuracy for test set is : {acc}')"
   ]
  },
  {
   "cell_type": "markdown",
   "metadata": {},
   "source": [
    "### Decision Tree Classifier :"
   ]
  },
  {
   "cell_type": "code",
   "execution_count": 80,
   "metadata": {},
   "outputs": [],
   "source": [
    "# create and fit the model\n",
    "dTree = DecisionTreeClassifier(featuresCol='features', labelCol='label', predictionCol='prediction', maxDepth=5, maxBins=7000)\n",
    "dTree = dTree.fit(train)"
   ]
  },
  {
   "cell_type": "code",
   "execution_count": 81,
   "metadata": {},
   "outputs": [],
   "source": [
    "# get the predictions\n",
    "preds_DT = dTree.transform(train)"
   ]
  },
  {
   "cell_type": "code",
   "execution_count": 83,
   "metadata": {},
   "outputs": [
    {
     "name": "stdout",
     "output_type": "stream",
     "text": [
      "F1 for test set is           : 0.9339716303718011\n",
      "The accuracy for test set is : 0.955645767507048\n"
     ]
    }
   ],
   "source": [
    "# get metrics for the model\n",
    "acc = evaluator.evaluate(preds_DT, {evaluator.metricName: \"accuracy\"})\n",
    "f1 = evaluator.evaluate(preds_DT, {evaluator.metricName: \"f1\"}) \n",
    "\n",
    "print(f'F1 for test set is           : {f1}')\n",
    "print(f'The accuracy for test set is : {acc}')"
   ]
  },
  {
   "cell_type": "markdown",
   "metadata": {},
   "source": [
    "### Random Forest :"
   ]
  },
  {
   "cell_type": "code",
   "execution_count": 85,
   "metadata": {},
   "outputs": [],
   "source": [
    "# create and fit a RandomForest model.\n",
    "rf = RandomForestClassifier(labelCol=\"label\", featuresCol=\"features\", numTrees=10, maxBins=7000)\n",
    "rf = rf.fit(train)"
   ]
  },
  {
   "cell_type": "code",
   "execution_count": 86,
   "metadata": {},
   "outputs": [],
   "source": [
    "# get predictions\n",
    "preds_RF = rf.transform(test)"
   ]
  },
  {
   "cell_type": "code",
   "execution_count": 92,
   "metadata": {},
   "outputs": [
    {
     "name": "stdout",
     "output_type": "stream",
     "text": [
      "F1 for test set is           : 0.934000789601444\n",
      "The accuracy for test set is : 0.9556655087984712\n"
     ]
    }
   ],
   "source": [
    "# get metrics for the model\n",
    "acc = evaluator.evaluate(preds_RF, {evaluator.metricName: \"accuracy\"})\n",
    "f1 = evaluator.evaluate(preds_RF, {evaluator.metricName: \"f1\"}) \n",
    "\n",
    "print(f'F1 for test set is           : {f1}')\n",
    "print(f'The accuracy for test set is : {acc}')"
   ]
  },
  {
   "cell_type": "markdown",
   "metadata": {},
   "source": [
    "### Naive Bayes :"
   ]
  },
  {
   "cell_type": "code",
   "execution_count": 93,
   "metadata": {},
   "outputs": [],
   "source": [
    "from pyspark.ml.classification import NaiveBayes\n",
    "\n",
    "# create and fit the trainer and set its parameters\n",
    "nb = NaiveBayes(labelCol=\"label\", featuresCol=\"features\", smoothing=1.0, modelType=\"multinomial\")\n",
    "nb_model = nb.fit(train)"
   ]
  },
  {
   "cell_type": "code",
   "execution_count": 94,
   "metadata": {},
   "outputs": [],
   "source": [
    "# get predictions\n",
    "preds_NB = nb_model.transform(test)"
   ]
  },
  {
   "cell_type": "code",
   "execution_count": 95,
   "metadata": {},
   "outputs": [
    {
     "name": "stdout",
     "output_type": "stream",
     "text": [
      "F1 for test set is           : 0.583154255713681\n",
      "The accuracy for test set is : 0.44213935225734535\n"
     ]
    }
   ],
   "source": [
    "# get metrics for the model\n",
    "acc = evaluator.evaluate(preds_NB, {evaluator.metricName: \"accuracy\"})\n",
    "f1 = evaluator.evaluate(preds_NB, {evaluator.metricName: \"f1\"}) \n",
    "\n",
    "print(f'F1 for test set is           : {f1}')\n",
    "print(f'The accuracy for test set is : {acc}')"
   ]
  }
 ],
 "metadata": {
  "kernelspec": {
   "display_name": "Python 3",
   "language": "python",
   "name": "python3"
  },
  "language_info": {
   "codemirror_mode": {
    "name": "ipython",
    "version": 3
   },
   "file_extension": ".py",
   "mimetype": "text/x-python",
   "name": "python",
   "nbconvert_exporter": "python",
   "pygments_lexer": "ipython3",
   "version": "3.7.11"
  }
 },
 "nbformat": 4,
 "nbformat_minor": 2
}
